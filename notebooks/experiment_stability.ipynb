{
 "cells": [
  {
   "cell_type": "code",
   "execution_count": 1,
   "metadata": {},
   "outputs": [],
   "source": [
    "# Autoreload extension\n",
    "%load_ext autoreload    \n",
    "%autoreload 2\n",
    "\n",
    "# Include local library paths\n",
    "import sys, os\n",
    "#cwd = os.getcwd()\n",
    "cwd = '../../'\n",
    "lib = 'lifecycles/'\n",
    "pth = os.path.join(cwd, lib)\n",
    "sys.path.append(pth)\n",
    "\n",
    "import lifecycles as lcs\n",
    "from lifecycles import algorithms"
   ]
  },
  {
   "cell_type": "code",
   "execution_count": 2,
   "metadata": {},
   "outputs": [],
   "source": [
    "import tnetwork as tn\n",
    "from tnetwork import DCD"
   ]
  },
  {
   "cell_type": "code",
   "execution_count": 3,
   "metadata": {},
   "outputs": [],
   "source": [
    "def dynamic_cluster_to_snaps(dyn_coms):\n",
    "    \"\"\"\n",
    "    Convert a dynamic cluster to a list of snapshots\n",
    "    :param dyn_coms: a dynamic community object\n",
    "    :return: a list of snapshots\n",
    "    \"\"\"\n",
    "    snaps = []\n",
    "    for t in dyn_coms.snapshots.keys():\n",
    "        snap = dyn_coms.snapshots[t]\n",
    "        snaps.append(snap.values())\n",
    "    return snaps"
   ]
  },
  {
   "cell_type": "code",
   "execution_count": 4,
   "metadata": {},
   "outputs": [
    {
     "name": "stdout",
     "output_type": "stream",
     "text": [
      "graph will be loaded as:  <class 'tnetwork.dyn_graph.dyn_graph_sn.DynGraphSN'>\n"
     ]
    }
   ],
   "source": [
    "#tg = tn.graph_socioPatterns2012(format=tn.DynGraphSN)\n",
    "#tg = tn.graph_socioPatterns_Primary_School(format=tn.DynGraphSN)\n",
    "tg = tn.graph_socioPatterns_Hospital(format=tn.DynGraphSN)"
   ]
  },
  {
   "cell_type": "code",
   "execution_count": 7,
   "metadata": {},
   "outputs": [
    {
     "name": "stderr",
     "output_type": "stream",
     "text": [
      "  0% (0 of 3567) |                       | Elapsed Time: 0:00:00 ETA:  --:--:--"
     ]
    },
    {
     "name": "stdout",
     "output_type": "stream",
     "text": [
      "starting no_smoothing\n"
     ]
    },
    {
     "name": "stderr",
     "output_type": "stream",
     "text": [
      "  0% (0 of 303) |                        | Elapsed Time: 0:00:00 ETA:  --:--:--"
     ]
    },
    {
     "name": "stdout",
     "output_type": "stream",
     "text": [
      "starting no_smoothing\n"
     ]
    },
    {
     "name": "stderr",
     "output_type": "stream",
     "text": [
      "  0% (0 of 162) |                        | Elapsed Time: 0:00:00 ETA:  --:--:--"
     ]
    },
    {
     "name": "stdout",
     "output_type": "stream",
     "text": [
      "starting no_smoothing\n"
     ]
    },
    {
     "name": "stderr",
     "output_type": "stream",
     "text": [
      "  0% (0 of 86) |                         | Elapsed Time: 0:00:00 ETA:  --:--:--"
     ]
    },
    {
     "name": "stdout",
     "output_type": "stream",
     "text": [
      "starting no_smoothing\n"
     ]
    },
    {
     "name": "stderr",
     "output_type": "stream",
     "text": [
      "  0% (0 of 46) |                         | Elapsed Time: 0:00:00 ETA:  --:--:--"
     ]
    },
    {
     "name": "stdout",
     "output_type": "stream",
     "text": [
      "starting no_smoothing\n"
     ]
    },
    {
     "name": "stderr",
     "output_type": "stream",
     "text": [
      "  0% (0 of 17) |                         | Elapsed Time: 0:00:00 ETA:  --:--:--"
     ]
    },
    {
     "name": "stdout",
     "output_type": "stream",
     "text": [
      "starting no_smoothing\n"
     ]
    },
    {
     "name": "stderr",
     "output_type": "stream",
     "text": [
      "  0% (0 of 9) |                          | Elapsed Time: 0:00:00 ETA:  --:--:--"
     ]
    },
    {
     "name": "stdout",
     "output_type": "stream",
     "text": [
      "starting no_smoothing\n"
     ]
    },
    {
     "name": "stderr",
     "output_type": "stream",
     "text": [
      "  0% (0 of 5) |                          | Elapsed Time: 0:00:00 ETA:  --:--:--"
     ]
    },
    {
     "name": "stdout",
     "output_type": "stream",
     "text": [
      "starting no_smoothing\n"
     ]
    }
   ],
   "source": [
    "to_print=[]\n",
    "times = [60,60*15,60*30,60*60*1,60*60*2,60*60*6,60*60*12,60*60*24]#[60,60*5,60*10,60*20,60*60,60*60*2,60*60*4,60*60*8,60*60*12,60*60*18,60*60*24]:#[60*10,60*20,60*60,60*60*2,60*60*4,60*60*8,60*60*12,60*60*24,60*60*48,60*60*24*3]:\n",
    "#times=[60*60*24*6]\n",
    "for agg in times:\n",
    "    tg_day = tg.aggregate_sliding_window(agg,agg)\n",
    "    dyn_coms = DCD.iterative_match(tg_day)\n",
    "    snapsAgg = dynamic_cluster_to_snaps(dyn_coms)\n",
    "    lc = lcs.LifeCycle(int)\n",
    "    lc.add_partitions_from(snapsAgg)\n",
    "    #print(flow.stability(lc,\"-\"))\n",
    "    to_print.append(algorithms.stability(lc,\"-\"))\n",
    "#viz.specificity_distribution(lc,\"-\")"
   ]
  },
  {
   "cell_type": "code",
   "execution_count": 8,
   "metadata": {},
   "outputs": [
    {
     "data": {
      "text/plain": [
       "[0.5513041411535091,\n",
       " 0.27704251203660296,\n",
       " 0.19993984828491493,\n",
       " 0.15785340278048848,\n",
       " 0.13800118509370402,\n",
       " 0.09294589101589658,\n",
       " 0.12464386080370682,\n",
       " 0.14439154166865253]"
      ]
     },
     "execution_count": 8,
     "metadata": {},
     "output_type": "execute_result"
    }
   ],
   "source": [
    "to_print"
   ]
  },
  {
   "cell_type": "code",
   "execution_count": null,
   "metadata": {},
   "outputs": [],
   "source": []
  },
  {
   "cell_type": "code",
   "execution_count": null,
   "metadata": {},
   "outputs": [],
   "source": []
  }
 ],
 "metadata": {
  "kernelspec": {
   "display_name": "Python 3 (ipykernel)",
   "language": "python",
   "name": "python3"
  },
  "language_info": {
   "codemirror_mode": {
    "name": "ipython",
    "version": 3
   },
   "file_extension": ".py",
   "mimetype": "text/x-python",
   "name": "python",
   "nbconvert_exporter": "python",
   "pygments_lexer": "ipython3",
   "version": "3.11.9"
  }
 },
 "nbformat": 4,
 "nbformat_minor": 4
}
