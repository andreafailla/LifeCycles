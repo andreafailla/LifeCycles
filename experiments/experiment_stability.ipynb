{
 "cells": [
  {
   "cell_type": "code",
   "execution_count": 1,
   "metadata": {},
   "outputs": [],
   "source": [
    "# Autoreload extension\n",
    "%load_ext autoreload    \n",
    "%autoreload 2\n",
    "\n",
    "# Include local library paths\n",
    "import sys, os\n",
    "#cwd = os.getcwd()\n",
    "cwd = '../../'\n",
    "lib = 'lifecycles/'\n",
    "pth = os.path.join(cwd, lib)\n",
    "sys.path.append(pth)\n",
    "\n",
    "import lifecycles as lcs\n"
   ]
  },
  {
   "cell_type": "code",
   "execution_count": 2,
   "metadata": {},
   "outputs": [],
   "source": [
    "import tnetwork as tn\n",
    "from tnetwork import DCD"
   ]
  },
  {
   "cell_type": "code",
   "execution_count": 3,
   "metadata": {},
   "outputs": [],
   "source": [
    "def dynamic_cluster_to_snaps(dyn_coms):\n",
    "    \"\"\"\n",
    "    Convert a dynamic cluster to a list of snapshots\n",
    "    :param dyn_coms: a dynamic community object\n",
    "    :return: a list of snapshots\n",
    "    \"\"\"\n",
    "    snaps = []\n",
    "    for t in dyn_coms.snapshots.keys():\n",
    "        snap = dyn_coms.snapshots[t]\n",
    "        snaps.append(snap.values())\n",
    "    return snaps"
   ]
  },
  {
   "cell_type": "code",
   "execution_count": 4,
   "metadata": {},
   "outputs": [
    {
     "name": "stdout",
     "output_type": "stream",
     "text": [
      "graph will be loaded as:  <class 'tnetwork.dyn_graph.dyn_graph_sn.DynGraphSN'>\n"
     ]
    }
   ],
   "source": [
    "#tg = tn.graph_socioPatterns2012(format=tn.DynGraphSN)\n",
    "#tg = tn.graph_socioPatterns_Primary_School(format=tn.DynGraphSN)\n",
    "tg = tn.graph_socioPatterns_Hospital(format=tn.DynGraphSN)"
   ]
  },
  {
   "cell_type": "code",
   "execution_count": 5,
   "metadata": {},
   "outputs": [
    {
     "name": "stderr",
     "output_type": "stream",
     "text": [
      "  0% (0 of 3567) |                       | Elapsed Time: 0:00:00 ETA:  --:--:--\n"
     ]
    },
    {
     "name": "stdout",
     "output_type": "stream",
     "text": [
      "starting no_smoothing\n"
     ]
    },
    {
     "name": "stderr",
     "output_type": "stream",
     "text": [
      "  7% (271 of 3567) |#                    | Elapsed Time: 0:00:00 ETA:  00:00:00\n",
      " 16% (587 of 3567) |###                  | Elapsed Time: 0:00:00 ETA:   0:00:00\n",
      " 21% (768 of 3567) |####                 | Elapsed Time: 0:00:00 ETA:   0:00:00\n",
      " 26% (949 of 3567) |#####                | Elapsed Time: 0:00:00 ETA:   0:00:00\n",
      " 32% (1174 of 3567) |######              | Elapsed Time: 0:00:00 ETA:   0:00:00\n",
      " 40% (1445 of 3567) |########            | Elapsed Time: 0:00:00 ETA:   0:00:00\n",
      " 46% (1671 of 3567) |#########           | Elapsed Time: 0:00:00 ETA:   0:00:00\n",
      " 51% (1852 of 3567) |##########          | Elapsed Time: 0:00:00 ETA:   0:00:00\n",
      " 55% (1987 of 3567) |###########         | Elapsed Time: 0:00:00 ETA:   0:00:00\n",
      " 64% (2303 of 3567) |############        | Elapsed Time: 0:00:00 ETA:   0:00:00\n",
      " 69% (2484 of 3567) |#############       | Elapsed Time: 0:00:00 ETA:   0:00:00\n",
      " 74% (2664 of 3567) |##############      | Elapsed Time: 0:00:00 ETA:   0:00:00\n",
      " 81% (2890 of 3567) |################    | Elapsed Time: 0:00:00 ETA:   0:00:00\n",
      " 86% (3071 of 3567) |#################   | Elapsed Time: 0:00:00 ETA:   0:00:00\n",
      " 93% (3342 of 3567) |##################  | Elapsed Time: 0:00:00 ETA:   0:00:00\n",
      " 96% (3432 of 3567) |################### | Elapsed Time: 0:00:00 ETA:   0:00:00\n",
      "  0% (0 of 303) |                        | Elapsed Time: 0:00:00 ETA:  --:--:--\n"
     ]
    },
    {
     "name": "stdout",
     "output_type": "stream",
     "text": [
      "starting no_smoothing\n"
     ]
    },
    {
     "name": "stderr",
     "output_type": "stream",
     "text": [
      " 40% (123 of 303) |########              | Elapsed Time: 0:00:00 ETA:  00:00:00\n",
      " 74% (227 of 303) |################      | Elapsed Time: 0:00:00 ETA:   0:00:00\n",
      "  0% (0 of 162) |                        | Elapsed Time: 0:00:00 ETA:  --:--:--\n"
     ]
    },
    {
     "name": "stdout",
     "output_type": "stream",
     "text": [
      "starting no_smoothing\n"
     ]
    },
    {
     "name": "stderr",
     "output_type": "stream",
     "text": [
      " 56% (91 of 162) |############           | Elapsed Time: 0:00:00 ETA:  00:00:00\n",
      "  0% (0 of 86) |                         | Elapsed Time: 0:00:00 ETA:  --:--:--\n"
     ]
    },
    {
     "name": "stdout",
     "output_type": "stream",
     "text": [
      "starting no_smoothing\n"
     ]
    },
    {
     "name": "stderr",
     "output_type": "stream",
     "text": [
      " 94% (81 of 86) |######################  | Elapsed Time: 0:00:00 ETA:  00:00:00\n",
      "  0% (0 of 46) |                         | Elapsed Time: 0:00:00 ETA:  --:--:--\n"
     ]
    },
    {
     "name": "stdout",
     "output_type": "stream",
     "text": [
      "starting no_smoothing\n"
     ]
    },
    {
     "name": "stderr",
     "output_type": "stream",
     "text": [
      "  0% (0 of 17) |                         | Elapsed Time: 0:00:00 ETA:  --:--:--\n"
     ]
    },
    {
     "name": "stdout",
     "output_type": "stream",
     "text": [
      "starting no_smoothing\n"
     ]
    },
    {
     "name": "stderr",
     "output_type": "stream",
     "text": [
      "  0% (0 of 9) |                          | Elapsed Time: 0:00:00 ETA:  --:--:--\n"
     ]
    },
    {
     "name": "stdout",
     "output_type": "stream",
     "text": [
      "starting no_smoothing\n"
     ]
    },
    {
     "name": "stderr",
     "output_type": "stream",
     "text": [
      "  0% (0 of 5) |                          | Elapsed Time: 0:00:00 ETA:  --:--:--\n"
     ]
    },
    {
     "name": "stdout",
     "output_type": "stream",
     "text": [
      "starting no_smoothing\n"
     ]
    }
   ],
   "source": [
    "to_print=[]\n",
    "times = [60,60*15,60*30,60*60*1,60*60*2,60*60*6,60*60*12,60*60*24]#[60,60*5,60*10,60*20,60*60,60*60*2,60*60*4,60*60*8,60*60*12,60*60*18,60*60*24]:#[60*10,60*20,60*60,60*60*2,60*60*4,60*60*8,60*60*12,60*60*24,60*60*48,60*60*24*3]:\n",
    "#times=[60*60*24*6]\n",
    "for agg in times:\n",
    "    tg_day = tg.aggregate_sliding_window(agg,agg)\n",
    "    dyn_coms = DCD.iterative_match(tg_day)\n",
    "    snapsAgg = dynamic_cluster_to_snaps(dyn_coms)\n",
    "    lc = lcs.LifeCycle(int)\n",
    "    lc.add_partitions_from(snapsAgg)\n",
    "    #print(flow.stability(lc,\"-\"))\n",
    "    to_print.append(lcs.flow_analysis.stability(lc,\"-\"))\n",
    "#viz.specificity_distribution(lc,\"-\")"
   ]
  },
  {
   "cell_type": "code",
   "execution_count": 6,
   "metadata": {},
   "outputs": [
    {
     "data": {
      "text/plain": [
       "[0.5513041411535091,\n",
       " 0.27704251203660296,\n",
       " 0.19993984828491493,\n",
       " 0.15785340278048848,\n",
       " 0.13800118509370402,\n",
       " 0.09294589101589658,\n",
       " 0.12464386080370682,\n",
       " 0.14439154166865253]"
      ]
     },
     "execution_count": 6,
     "metadata": {},
     "output_type": "execute_result"
    }
   ],
   "source": [
    "to_print"
   ]
  },
  {
   "cell_type": "code",
   "execution_count": 7,
   "metadata": {},
   "outputs": [
    {
     "ename": "SyntaxError",
     "evalue": "invalid syntax (1719790366.py, line 1)",
     "output_type": "error",
     "traceback": [
      "\u001b[0;36m  File \u001b[0;32m\"/var/folders/j8/987m6x9x2dd5j9rz_30l06840000gn/T/ipykernel_49821/1719790366.py\"\u001b[0;36m, line \u001b[0;32m1\u001b[0m\n\u001b[0;31m    save: primary, [0.3591822334722523,\u001b[0m\n\u001b[0m                 ^\u001b[0m\n\u001b[0;31mSyntaxError\u001b[0m\u001b[0;31m:\u001b[0m invalid syntax\n"
     ]
    }
   ],
   "source": [
    "save: primary, [0.3591822334722523,\n",
    " 0.3812577970084579,\n",
    " 0.404198255632064,\n",
    " 0.45551344923221826,\n",
    " 0.36744175510404176,\n",
    " 0.45330209061499493,\n",
    " 0.3250203769030779,\n",
    " 0.776353299182189]\n",
    "\n",
    "Hospital\n",
    "[0.5513041411535091,\n",
    " 0.27704251203660296,\n",
    " 0.19993984828491493,\n",
    " 0.15785340278048848,\n",
    " 0.13800118509370402,\n",
    " 0.09294589101589658,\n",
    " 0.12464386080370682,\n",
    " 0.14439154166865253]\n",
    "\n",
    "highschool\n",
    "0.54065023877778,\n",
    " 0.41667270107726556,\n",
    " 0.327565331823776,\n",
    " 0.21466737901337918,\n",
    " 0.14098109052586005,\n",
    " 0.08177760251386801,\n",
    " 0.047091785824016054,\n",
    " 0.11330485141573826]"
   ]
  },
  {
   "cell_type": "code",
   "execution_count": null,
   "metadata": {},
   "outputs": [],
   "source": []
  },
  {
   "cell_type": "code",
   "execution_count": null,
   "metadata": {},
   "outputs": [],
   "source": []
  }
 ],
 "metadata": {
  "kernelspec": {
   "display_name": "base",
   "language": "python",
   "name": "python3"
  },
  "language_info": {
   "codemirror_mode": {
    "name": "ipython",
    "version": 3
   },
   "file_extension": ".py",
   "mimetype": "text/x-python",
   "name": "python",
   "nbconvert_exporter": "python",
   "pygments_lexer": "ipython3",
   "version": "3.8.8"
  }
 },
 "nbformat": 4,
 "nbformat_minor": 2
}
